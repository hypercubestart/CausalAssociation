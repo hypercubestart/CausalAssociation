{
 "cells": [
  {
   "cell_type": "code",
   "execution_count": 1,
   "metadata": {},
   "outputs": [],
   "source": [
    "WORK_DIR = '/Volumes/omics4tb2/aliu/projects/causalAssociation/'\n",
    "OUTPUT_DIR = WORK_DIR + \"results/kallisto/\""
   ]
  },
  {
   "cell_type": "code",
   "execution_count": 2,
   "metadata": {},
   "outputs": [],
   "source": [
    "#import dependencies\n",
    "import pandas as pd\n",
    "from sklearn.manifold import TSNE\n",
    "from sklearn.decomposition import PCA\n",
    "import time\n",
    "import math\n",
    "from plotnine import *\n",
    "import numpy as np\n",
    "import os"
   ]
  },
  {
   "cell_type": "code",
   "execution_count": 6,
   "metadata": {},
   "outputs": [
    {
     "name": "stdout",
     "output_type": "stream",
     "text": [
      "['.DS_Store', '._.DS_Store']\n"
     ]
    }
   ],
   "source": [
    "#import data\n",
    "import sys\n",
    "\n",
    "df = None\n",
    "dataframe = []\n",
    "for directory in os.listdir(OUTPUT_DIR):\n",
    "    if directory.endswith('R'):\n",
    "        data = pd.read_csv(OUTPUT_DIR + directory + '/abundance.tsv', sep='\\t', header=0, usecols=['target_id', 'tpm'])\n",
    "        print(data.loc[data['tpm'] > 0])\n",
    "        #dataframe.append(pd.DataFrame(data['tpm'], columns = data['target_id'], index = [directory]))\n",
    "        \n",
    "#df = pd.concat(dataframe)\n",
    "#df\n",
    " "
   ]
  },
  {
   "cell_type": "code",
   "execution_count": null,
   "metadata": {},
   "outputs": [],
   "source": [
    "# free memory\n",
    "del dataframe\n",
    "\n",
    "#clean data by removing possible noise\n",
    "#filter out columns where any value is less than 10 (lowly expressed)\n",
    "min_threshold = 10\n",
    "for column in df:\n",
    "    for value in df[column]:\n",
    "        if df < min_threshold:\n",
    "            df.drop(column, axis=1, inplace=True)\n",
    "            break\n",
    "\n",
    "#log base 10 all values in dataframe\n",
    "df.applymap(lambda x: math.log(x, 10))\n",
    "df\n"
   ]
  }
 ],
 "metadata": {
  "kernelspec": {
   "display_name": "Python 3",
   "language": "python",
   "name": "python3"
  },
  "language_info": {
   "codemirror_mode": {
    "name": "ipython",
    "version": 3
   },
   "file_extension": ".py",
   "mimetype": "text/x-python",
   "name": "python",
   "nbconvert_exporter": "python",
   "pygments_lexer": "ipython3",
   "version": "3.6.8"
  }
 },
 "nbformat": 4,
 "nbformat_minor": 2
}
